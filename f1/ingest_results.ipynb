{
 "cells": [
  {
   "cell_type": "code",
   "execution_count": 8,
   "id": "c55097b6",
   "metadata": {},
   "outputs": [],
   "source": [
    "from pyspark.sql import SparkSession\n",
    "from pyspark.sql.types import StructField, StructType, IntegerType, StringType, FloatType\n",
    "from pyspark.sql.functions import col, lit, concat, current_timestamp\n",
    "from pathlib import Path\n",
    "\n",
    "results_bronze_path = Path.cwd() / 'bronze' / 'results.json'\n",
    "results_silver_path = Path.cwd() / 'silver' / 'results'\n",
    "\n",
    "spark = SparkSession.builder.appName('f1Practice').getOrCreate()"
   ]
  },
  {
   "cell_type": "code",
   "execution_count": 21,
   "id": "06e4432d",
   "metadata": {},
   "outputs": [],
   "source": [
    "results_schema = StructType(fields=[\n",
    "    StructField('constructorId', IntegerType(), True),\n",
    "    StructField('driverId', IntegerType(), True),\n",
    "    StructField('fastestLap', IntegerType(), True),\n",
    "    StructField('fastestLapSpeed', FloatType(), True),\n",
    "    StructField('fastestLapTime', StringType(), True),\n",
    "    StructField('grid', IntegerType(), True),\n",
    "    StructField('laps', IntegerType(), True),\n",
    "    StructField('milliseconds', IntegerType(), True),\n",
    "    StructField('number', IntegerType(), True),\n",
    "    StructField('points', FloatType(), True),\n",
    "    StructField('position', IntegerType(), True),\n",
    "    StructField('positionOrder', IntegerType(), True),\n",
    "    StructField('positionText', StringType(), True),\n",
    "    StructField('raceId', IntegerType(), True),\n",
    "    StructField('rank', IntegerType(), True),\n",
    "    StructField('resultId', IntegerType(), True),\n",
    "    StructField('statusId', IntegerType(), True),\n",
    "    StructField('time', StringType(), True)\n",
    "\n",
    "])\n",
    "\n",
    "df = spark.read.schema(results_schema).json(str(results_bronze_path))\n"
   ]
  },
  {
   "cell_type": "code",
   "execution_count": 23,
   "id": "d20eff99",
   "metadata": {},
   "outputs": [],
   "source": [
    "final_df = df.select(\n",
    "    col('resultId').alias('result_id'),\n",
    "    col('raceId').alias('race_id'),\n",
    "    col('driverId').alias('driver_id'),\n",
    "    col('constructorId').alias('constructor_id'),\n",
    "    col('number'),\n",
    "    col('grid'),\n",
    "    col('position'),\n",
    "    col('positionText').alias('position_text'),\n",
    "    col('positionOrder').alias('position_order'),\n",
    "    col('points'),\n",
    "    col('laps'),\n",
    "    col('time'),\n",
    "    col('milliseconds'),\n",
    "    col('fastestLap').alias('fastest_lap'),\n",
    "    col('rank'),\n",
    "    col('fastestLapTime').alias('fastest_lap_time'),\n",
    "    col('fastestLapSpeed').alias('fastest_lap_speed')\n",
    ") \\\n",
    ".withColumn('ingestion_date', current_timestamp())"
   ]
  },
  {
   "cell_type": "code",
   "execution_count": 24,
   "id": "d8d0e079",
   "metadata": {},
   "outputs": [
    {
     "name": "stderr",
     "output_type": "stream",
     "text": [
      "                                                                                \r"
     ]
    }
   ],
   "source": [
    "final_df.write.mode('overwrite').partitionBy('race_id').parquet(str(results_silver_path))"
   ]
  }
 ],
 "metadata": {
  "kernelspec": {
   "display_name": "venv",
   "language": "python",
   "name": "python3"
  },
  "language_info": {
   "codemirror_mode": {
    "name": "ipython",
    "version": 3
   },
   "file_extension": ".py",
   "mimetype": "text/x-python",
   "name": "python",
   "nbconvert_exporter": "python",
   "pygments_lexer": "ipython3",
   "version": "3.13.3"
  }
 },
 "nbformat": 4,
 "nbformat_minor": 5
}
