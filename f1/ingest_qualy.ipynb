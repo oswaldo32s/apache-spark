{
 "cells": [
  {
   "cell_type": "code",
   "execution_count": 1,
   "id": "1f4a0680",
   "metadata": {},
   "outputs": [
    {
     "name": "stderr",
     "output_type": "stream",
     "text": [
      "Setting default log level to \"WARN\".\n",
      "To adjust logging level use sc.setLogLevel(newLevel). For SparkR, use setLogLevel(newLevel).\n",
      "25/05/16 12:54:09 WARN NativeCodeLoader: Unable to load native-hadoop library for your platform... using builtin-java classes where applicable\n",
      "25/05/16 12:54:10 WARN Utils: Service 'SparkUI' could not bind on port 4040. Attempting port 4041.\n"
     ]
    }
   ],
   "source": [
    "from pyspark.sql import SparkSession\n",
    "from pyspark.sql.functions import current_timestamp\n",
    "from pyspark.sql.types import StringType, IntegerType, StructType, StructField, FloatType\n",
    "from pathlib import Path\n",
    "\n",
    "qualy_bronze_path = Path.cwd() / 'bronze' / 'qualifying'\n",
    "qualy_silver_path = Path.cwd() / 'silver' / 'qualifying'\n",
    "\n",
    "spark = SparkSession.builder.appName('f1Practice').getOrCreate()"
   ]
  },
  {
   "cell_type": "code",
   "execution_count": 7,
   "id": "c7c8bf84",
   "metadata": {},
   "outputs": [],
   "source": [
    "qualy_schema = StructType(fields=[\n",
    "    StructField('constructorId', IntegerType(), True),\n",
    "    StructField('driverId', IntegerType(), True),\n",
    "    StructField('position', IntegerType(), True),\n",
    "    StructField('q1', StringType(), True),\n",
    "    StructField('q2', StringType(), True),\n",
    "    StructField('q3', StringType(), True),\n",
    "    StructField('qualifyId', IntegerType(), True),\n",
    "    StructField('raceId', IntegerType(), True)\n",
    "])\n",
    "\n",
    "df = spark.read.schema(qualy_schema).option('multiline', True).json(str(qualy_bronze_path))"
   ]
  },
  {
   "cell_type": "code",
   "execution_count": 8,
   "id": "6b3049b4",
   "metadata": {},
   "outputs": [],
   "source": [
    "final_df = df.withColumnRenamed('constructorId', 'constructor_id') \\\n",
    "            .withColumnRenamed('driverId', 'driver_id') \\\n",
    "            .withColumnRenamed('qualifyId', 'qualify_id') \\\n",
    "            .withColumnRenamed('raceId', 'race_id') \\\n",
    "            .withColumn('ingestion_date', current_timestamp())"
   ]
  },
  {
   "cell_type": "code",
   "execution_count": 9,
   "id": "c5f63494",
   "metadata": {},
   "outputs": [
    {
     "name": "stderr",
     "output_type": "stream",
     "text": [
      "                                                                                \r"
     ]
    }
   ],
   "source": [
    "final_df.write.mode('overwrite').parquet(str(qualy_silver_path))"
   ]
  }
 ],
 "metadata": {
  "kernelspec": {
   "display_name": "venv",
   "language": "python",
   "name": "python3"
  },
  "language_info": {
   "codemirror_mode": {
    "name": "ipython",
    "version": 3
   },
   "file_extension": ".py",
   "mimetype": "text/x-python",
   "name": "python",
   "nbconvert_exporter": "python",
   "pygments_lexer": "ipython3",
   "version": "3.13.3"
  }
 },
 "nbformat": 4,
 "nbformat_minor": 5
}
