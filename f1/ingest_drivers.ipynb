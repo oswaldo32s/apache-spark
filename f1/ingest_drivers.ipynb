{
 "cells": [
  {
   "cell_type": "code",
   "execution_count": 7,
   "id": "e5cd6838",
   "metadata": {},
   "outputs": [],
   "source": [
    "from pyspark.sql import SparkSession\n",
    "from pyspark.sql.types import StructField, StructType, IntegerType, StringType, DateType\n",
    "from pyspark.sql.functions import col, lit, concat, current_timestamp\n",
    "from pathlib import Path\n",
    "\n",
    "spark = SparkSession.builder.appName('f1Practice').getOrCreate()"
   ]
  },
  {
   "cell_type": "code",
   "execution_count": 11,
   "id": "5e2b748e",
   "metadata": {},
   "outputs": [],
   "source": [
    "drivers_schema = StructType(fields=[\n",
    "    StructField('driverId', IntegerType(), True),\n",
    "    StructField('driverRef', StringType(), True),\n",
    "    StructField('number', IntegerType(), True),\n",
    "    StructField('code', StringType(), True),\n",
    "    StructField('name', StructType(fields=[\n",
    "        StructField('forename', StringType(), True),\n",
    "        StructField('surname', StringType(), True)\n",
    "    ]), True),\n",
    "    StructField('dob', DateType(), True),\n",
    "    StructField('nationality', StringType(), True),\n",
    "    StructField('url', StringType(), True)\n",
    "])\n",
    "\n",
    "drivers_broze_path = Path.cwd() / 'bronze' / 'drivers.json'\n",
    "\n",
    "df = spark.read.schema(drivers_schema).json(str(drivers_broze_path))"
   ]
  },
  {
   "cell_type": "code",
   "execution_count": 15,
   "id": "0f6d57af",
   "metadata": {},
   "outputs": [],
   "source": [
    "### Transform Data\n",
    "\n",
    "selected_df = df.drop(col('url'))\n",
    "\n",
    "final_df = selected_df.withColumnRenamed('driverId', 'driver_id') \\\n",
    "            .withColumnRenamed('driverRef', 'driver_ref') \\\n",
    "            .withColumnRenamed('dob', 'birthday') \\\n",
    "            .withColumn('ingestion_date', current_timestamp()) \\\n",
    "            .withColumn('name', concat(col(\"name.forename\"), lit(' '), col(\"name.surname\")))"
   ]
  },
  {
   "cell_type": "code",
   "execution_count": 17,
   "id": "a78a57a9",
   "metadata": {},
   "outputs": [
    {
     "name": "stderr",
     "output_type": "stream",
     "text": [
      "                                                                                \r"
     ]
    }
   ],
   "source": [
    "drivers_silver_path = Path.cwd() / 'silver' / 'drivers'\n",
    "\n",
    "final_df.write.mode('overwrite').parquet(str(drivers_silver_path))"
   ]
  }
 ],
 "metadata": {
  "kernelspec": {
   "display_name": "venv",
   "language": "python",
   "name": "python3"
  },
  "language_info": {
   "codemirror_mode": {
    "name": "ipython",
    "version": 3
   },
   "file_extension": ".py",
   "mimetype": "text/x-python",
   "name": "python",
   "nbconvert_exporter": "python",
   "pygments_lexer": "ipython3",
   "version": "3.13.3"
  }
 },
 "nbformat": 4,
 "nbformat_minor": 5
}
