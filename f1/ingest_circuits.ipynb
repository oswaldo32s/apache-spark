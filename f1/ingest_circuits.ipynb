{
 "cells": [
  {
   "cell_type": "markdown",
   "id": "61689403",
   "metadata": {},
   "source": [
    "## Ingest circuits.csv file\n",
    "\n",
    "1. Read the file\n",
    "    1. Create an schema for the dataframe\n",
    "2. Transform the DataFrame\n",
    "    1. Select only wanted columns\n",
    "    2. Rename columns to keep Data Standards\n",
    "    3. Add Ingestion Date\n",
    "3. Load Data to Silver in Parquet Format"
   ]
  },
  {
   "cell_type": "code",
   "execution_count": 66,
   "id": "d189c3ca",
   "metadata": {},
   "outputs": [],
   "source": [
    "from pyspark.sql import SparkSession\n",
    "import os\n",
    "\n",
    "### GET FILE PATH (LOCALLY)\n",
    "cwd = os.getcwd()\n",
    "circuits_path = cwd + '/bronze/circuits.csv'"
   ]
  },
  {
   "cell_type": "code",
   "execution_count": 67,
   "id": "d1440690",
   "metadata": {},
   "outputs": [],
   "source": [
    "### START SPARK SESION\n",
    "\n",
    "spark = SparkSession.builder.appName('f1Practice').getOrCreate()"
   ]
  },
  {
   "cell_type": "code",
   "execution_count": 68,
   "id": "bb8b9acf",
   "metadata": {},
   "outputs": [],
   "source": [
    "### CREATE DF SCHEMA\n",
    "from pyspark.sql.types import IntegerType, StringType, DoubleType, StructType, StructField\n",
    "\n",
    "schema = StructType(fields=[StructField('circuitId', IntegerType(), True),\n",
    "                            StructField('circuitRef', StringType(), True),\n",
    "                            StructField('name', StringType(), True),\n",
    "                            StructField('location', StringType(), True),\n",
    "                            StructField('country', StringType(), True),\n",
    "                            StructField('lat', DoubleType(), True), \n",
    "                            StructField('lng', DoubleType(), True),\n",
    "                            StructField('alt', IntegerType(), True),\n",
    "                            StructField('url', StringType(), True)\n",
    "                            ])\n"
   ]
  },
  {
   "cell_type": "code",
   "execution_count": 69,
   "id": "f1226b8b",
   "metadata": {},
   "outputs": [],
   "source": [
    "### LOAD CSV FILE INTO DATA FRAME\n",
    "\n",
    "df = spark.read.option('header', True).schema(schema).csv(circuits_path)"
   ]
  },
  {
   "cell_type": "code",
   "execution_count": 70,
   "id": "c1350139",
   "metadata": {},
   "outputs": [],
   "source": [
    "### SELECT ONLY WANTED COLUMNS\n",
    "from pyspark.sql.functions import col\n",
    "\n",
    "### Option 1\n",
    "# df_selected = df.select('circuitId', 'circuitRef', 'name', 'location', 'country', 'lat', 'lng', 'alt')\n",
    "\n",
    "### Option 2\n",
    "# df_selected = df.select(df.circuitId, df.circuitRef, df.name, df.location, df.country, df.lat, df.lng, df.alt) \n",
    "\n",
    "### Option 3 Allows you to apply additional Operations\n",
    "selected_df = df.select(col('circuitId'),  ### You can .alias('new_name')\n",
    "                        col('circuitRef'),\n",
    "                        col('name'),\n",
    "                        col('location'),\n",
    "                        col('country'),\n",
    "                        col('lat'),\n",
    "                        col('lng'),\n",
    "                        col('alt')) "
   ]
  },
  {
   "cell_type": "code",
   "execution_count": 71,
   "id": "fb72c14f",
   "metadata": {},
   "outputs": [],
   "source": [
    "### RENAME COLUMNS\n",
    "\n",
    "renamed_df = selected_df.withColumnRenamed('circuitId', 'circuit_id') \\\n",
    "                        .withColumnRenamed('circuitRef', 'circuit_ref') \\\n",
    "                        .withColumnRenamed('lat', 'latitude') \\\n",
    "                        .withColumnRenamed('lng', 'longitude') \\\n",
    "                        .withColumnRenamed('alt', 'altitude')\n"
   ]
  },
  {
   "cell_type": "code",
   "execution_count": 72,
   "id": "e8d2b39a",
   "metadata": {},
   "outputs": [],
   "source": [
    "# ### ADD NEW COLUMN FOR INGESTION DATE\n",
    "from pyspark.sql.functions import current_timestamp\n",
    "\n",
    "final_df = renamed_df.withColumn('ingestion_date', current_timestamp())"
   ]
  },
  {
   "cell_type": "code",
   "execution_count": 73,
   "id": "9ae64209",
   "metadata": {},
   "outputs": [],
   "source": [
    "### LOAD DATA TO SILVER FOLDER IN PARQUET FORMAT\n",
    "\n",
    "silver_circuit_path = '/silver/circuits'\n",
    "silver_path = cwd + silver_circuit_path\n",
    "\n",
    "final_df.write.mode('overwrite').parquet(silver_path)\n"
   ]
  }
 ],
 "metadata": {
  "kernelspec": {
   "display_name": "venv",
   "language": "python",
   "name": "python3"
  },
  "language_info": {
   "codemirror_mode": {
    "name": "ipython",
    "version": 3
   },
   "file_extension": ".py",
   "mimetype": "text/x-python",
   "name": "python",
   "nbconvert_exporter": "python",
   "pygments_lexer": "ipython3",
   "version": "3.13.3"
  }
 },
 "nbformat": 4,
 "nbformat_minor": 5
}
