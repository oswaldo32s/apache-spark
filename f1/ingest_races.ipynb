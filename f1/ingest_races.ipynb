{
 "cells": [
  {
   "cell_type": "code",
   "execution_count": 7,
   "id": "16d0cfa1",
   "metadata": {},
   "outputs": [],
   "source": [
    "import os\n",
    "\n",
    "cwd = os.getcwd()"
   ]
  },
  {
   "cell_type": "code",
   "execution_count": 24,
   "id": "b892ceb4",
   "metadata": {},
   "outputs": [],
   "source": [
    "from pyspark.sql import SparkSession\n",
    "from pyspark.sql.functions import col, lit, concat, to_timestamp, current_timestamp\n",
    "from pyspark.sql.types import StructType, StructField, StringType, IntegerType, TimestampType\n",
    "\n",
    "spark = SparkSession.builder.appName('f1Practice').getOrCreate()\n"
   ]
  },
  {
   "cell_type": "code",
   "execution_count": 12,
   "id": "4a359f72",
   "metadata": {},
   "outputs": [],
   "source": [
    "schema = StructType(fields=[StructField('raceId', IntegerType(), True),\n",
    "                            StructField('year', IntegerType(), True),\n",
    "                            StructField('round', IntegerType(), True),\n",
    "                            StructField('circuitId', IntegerType(), True),\n",
    "                            StructField('name', StringType(), True),\n",
    "                            StructField('date', StringType(), True),\n",
    "                            StructField('time', StringType(), True),\n",
    "                            StructField('url', StringType(), True)\n",
    "                            ])"
   ]
  },
  {
   "cell_type": "code",
   "execution_count": 30,
   "id": "01916984",
   "metadata": {},
   "outputs": [],
   "source": [
    "races_path = cwd + '/bronze/races.csv'\n",
    "\n",
    "df = spark.read.option('header', True).schema(schema).csv(races_path)"
   ]
  },
  {
   "cell_type": "code",
   "execution_count": 36,
   "id": "27c85d37",
   "metadata": {},
   "outputs": [],
   "source": [
    "### Transform Date and Time to race_timestamp and add ingestion_date\n",
    "\n",
    "df_race_timestamp = df.withColumn('race_timestamp', to_timestamp(concat(col('date'), lit(' '), col('time')), 'yyyy-MM-dd HH:mm:ss')) \\\n",
    "                    .withColumn('ingestion_date', current_timestamp())"
   ]
  },
  {
   "cell_type": "code",
   "execution_count": 37,
   "id": "4758e219",
   "metadata": {},
   "outputs": [],
   "source": [
    "selected_df = df_race_timestamp.select(col('raceId').alias('race_id'),\n",
    "                                    col('year').alias('race_year'),\n",
    "                                    col('round'),\n",
    "                                    col('circuitId').alias('circuit_id'),\n",
    "                                    col('name'),\n",
    "                                    col('race_timestamp'),\n",
    "                                    col('ingestion_date'))"
   ]
  },
  {
   "cell_type": "code",
   "execution_count": 41,
   "id": "9627d57c",
   "metadata": {},
   "outputs": [],
   "source": [
    "silver_path = cwd + '/silver/races'\n",
    "\n",
    "selected_df.write.mode('overwrite').parquet(silver_path) ### you can .partitionBy('column_name') to save the data by groups"
   ]
  }
 ],
 "metadata": {
  "kernelspec": {
   "display_name": "venv",
   "language": "python",
   "name": "python3"
  },
  "language_info": {
   "codemirror_mode": {
    "name": "ipython",
    "version": 3
   },
   "file_extension": ".py",
   "mimetype": "text/x-python",
   "name": "python",
   "nbconvert_exporter": "python",
   "pygments_lexer": "ipython3",
   "version": "3.13.3"
  }
 },
 "nbformat": 4,
 "nbformat_minor": 5
}
