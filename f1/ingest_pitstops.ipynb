{
 "cells": [
  {
   "cell_type": "code",
   "execution_count": 19,
   "id": "439d2cf7",
   "metadata": {},
   "outputs": [],
   "source": [
    "from pyspark.sql import SparkSession\n",
    "from pyspark.sql.functions import current_timestamp\n",
    "from pyspark.sql.types import StringType, IntegerType, StructType, StructField, FloatType\n",
    "from pathlib import Path\n",
    "\n",
    "pitstops_bronze_path = Path.cwd() / 'bronze' / 'pit_stops.json'\n",
    "pitstops_silver_path = Path.cwd() / 'silver' / 'pitstops'\n",
    "\n",
    "spark = SparkSession.builder.appName('f1Practice').getOrCreate()"
   ]
  },
  {
   "cell_type": "code",
   "execution_count": 18,
   "id": "9e7ac171",
   "metadata": {},
   "outputs": [],
   "source": [
    "pitstops_schema = StructType(fields=[\n",
    "    StructField('driverId', IntegerType(), True),\n",
    "    StructField('duration', FloatType(), True),\n",
    "    StructField('lap', IntegerType(), True),\n",
    "    StructField('milliseconds', IntegerType(), True),\n",
    "    StructField('raceId', IntegerType(), True),\n",
    "    StructField('stop', IntegerType(), True),\n",
    "    StructField('time', StringType(), True)\n",
    "])\n",
    "\n",
    "df = spark.read.schema(pitstops_schema).option('multiline', True).json(str(pitstops_bronze_path))\n"
   ]
  },
  {
   "cell_type": "code",
   "execution_count": 21,
   "id": "11c1cedc",
   "metadata": {},
   "outputs": [],
   "source": [
    "final_df = df.withColumnRenamed('driverId', 'driver_id') \\\n",
    "            .withColumnRenamed('raceId', 'race_id') \\\n",
    "            .withColumn('ingestion_date', current_timestamp())"
   ]
  },
  {
   "cell_type": "code",
   "execution_count": 22,
   "id": "6987f51a",
   "metadata": {},
   "outputs": [
    {
     "name": "stderr",
     "output_type": "stream",
     "text": [
      "                                                                                \r"
     ]
    }
   ],
   "source": [
    "final_df.write.mode('overwrite').parquet(str(pitstops_silver_path))"
   ]
  }
 ],
 "metadata": {
  "kernelspec": {
   "display_name": "venv",
   "language": "python",
   "name": "python3"
  },
  "language_info": {
   "codemirror_mode": {
    "name": "ipython",
    "version": 3
   },
   "file_extension": ".py",
   "mimetype": "text/x-python",
   "name": "python",
   "nbconvert_exporter": "python",
   "pygments_lexer": "ipython3",
   "version": "3.13.3"
  }
 },
 "nbformat": 4,
 "nbformat_minor": 5
}
