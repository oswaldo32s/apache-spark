{
 "cells": [
  {
   "cell_type": "code",
   "execution_count": 1,
   "id": "cc36a88c",
   "metadata": {},
   "outputs": [
    {
     "name": "stderr",
     "output_type": "stream",
     "text": [
      "Setting default log level to \"WARN\".\n",
      "To adjust logging level use sc.setLogLevel(newLevel). For SparkR, use setLogLevel(newLevel).\n",
      "25/05/16 12:48:56 WARN NativeCodeLoader: Unable to load native-hadoop library for your platform... using builtin-java classes where applicable\n"
     ]
    }
   ],
   "source": [
    "from pyspark.sql import SparkSession\n",
    "from pyspark.sql.functions import current_timestamp\n",
    "from pyspark.sql.types import StringType, IntegerType, StructType, StructField, FloatType\n",
    "from pathlib import Path\n",
    "\n",
    "laptimes_bronze_path = Path.cwd() / 'bronze' / 'lap_times'\n",
    "laptimes_silver_path = Path.cwd() / 'silver' / 'lap_times'\n",
    "\n",
    "spark = SparkSession.builder.appName('f1Practice').getOrCreate()"
   ]
  },
  {
   "cell_type": "code",
   "execution_count": 4,
   "id": "37c41c23",
   "metadata": {},
   "outputs": [],
   "source": [
    "laptime_schema = StructType(fields=[\n",
    "    StructField('race_id', IntegerType(), True),\n",
    "    StructField('driver_id', IntegerType(), True),\n",
    "    StructField('lap', IntegerType(), True),\n",
    "    StructField('position', IntegerType(), True),\n",
    "    StructField('time', StringType(), True),\n",
    "    StructField('milliseconds', IntegerType(), True)\n",
    "])\n",
    "\n",
    "df = spark.read.schema(laptime_schema).csv(str(laptimes_bronze_path))\n"
   ]
  },
  {
   "cell_type": "code",
   "execution_count": 5,
   "id": "0a749487",
   "metadata": {},
   "outputs": [],
   "source": [
    "final_df = df.withColumn('ingestion_date', current_timestamp())"
   ]
  },
  {
   "cell_type": "code",
   "execution_count": 6,
   "id": "2aafd368",
   "metadata": {},
   "outputs": [
    {
     "name": "stderr",
     "output_type": "stream",
     "text": [
      "                                                                                \r"
     ]
    }
   ],
   "source": [
    "final_df.write.mode('overwrite').parquet(str(laptimes_silver_path))"
   ]
  }
 ],
 "metadata": {
  "kernelspec": {
   "display_name": "venv",
   "language": "python",
   "name": "python3"
  },
  "language_info": {
   "codemirror_mode": {
    "name": "ipython",
    "version": 3
   },
   "file_extension": ".py",
   "mimetype": "text/x-python",
   "name": "python",
   "nbconvert_exporter": "python",
   "pygments_lexer": "ipython3",
   "version": "3.13.3"
  }
 },
 "nbformat": 4,
 "nbformat_minor": 5
}
