{
 "cells": [
  {
   "cell_type": "code",
   "execution_count": 1,
   "id": "4cdebd31",
   "metadata": {},
   "outputs": [
    {
     "name": "stderr",
     "output_type": "stream",
     "text": [
      "Setting default log level to \"WARN\".\n",
      "To adjust logging level use sc.setLogLevel(newLevel). For SparkR, use setLogLevel(newLevel).\n",
      "25/05/16 09:58:45 WARN NativeCodeLoader: Unable to load native-hadoop library for your platform... using builtin-java classes where applicable\n"
     ]
    }
   ],
   "source": [
    "from pyspark.sql import SparkSession\n",
    "\n",
    "spark = SparkSession.builder.appName('f1Practice').getOrCreate()"
   ]
  },
  {
   "cell_type": "code",
   "execution_count": 2,
   "id": "91e0efc1",
   "metadata": {},
   "outputs": [],
   "source": [
    "from pyspark.sql.types import StructType, StructField, IntegerType, StringType\n",
    "\n",
    "constructor_schema = StructType(fields=[\n",
    "    StructField('constructorId', IntegerType(), True),\n",
    "    StructField('constructorRef', StringType(), True),\n",
    "    StructField('name', StringType(), True),\n",
    "    StructField('nationality', StringType(), True),\n",
    "    StructField('url', StringType(), True)\n",
    "])"
   ]
  },
  {
   "cell_type": "code",
   "execution_count": 10,
   "id": "4a16739b",
   "metadata": {},
   "outputs": [],
   "source": [
    "from pathlib import Path\n",
    "\n",
    "constructor_bronze_path = Path.cwd() / 'bronze' / 'constructors.json' \n",
    "df = spark.read.schema(constructor_schema).json(str(constructor_bronze_path))"
   ]
  },
  {
   "cell_type": "code",
   "execution_count": 12,
   "id": "77055695",
   "metadata": {},
   "outputs": [],
   "source": [
    "from pyspark.sql.functions import col\n",
    "\n",
    "selected_df = df.select(\n",
    "    col('constructorId').alias('constructor_id'),\n",
    "    col('constructorRef').alias('constructor_ref'),\n",
    "    col('name'),\n",
    "    col('nationality')\n",
    ")"
   ]
  },
  {
   "cell_type": "code",
   "execution_count": 16,
   "id": "b70946c8",
   "metadata": {},
   "outputs": [
    {
     "name": "stderr",
     "output_type": "stream",
     "text": [
      "                                                                                \r"
     ]
    }
   ],
   "source": [
    "from pyspark.sql.functions import current_timestamp\n",
    "\n",
    "final_df = selected_df.withColumn('ingestion_date', current_timestamp())\n",
    "\n",
    "constructor_silver_path = Path.cwd() / 'silver' / 'constructors'\n",
    "\n",
    "final_df.write.mode('overwrite').parquet(str(constructor_silver_path))"
   ]
  }
 ],
 "metadata": {
  "kernelspec": {
   "display_name": "venv",
   "language": "python",
   "name": "python3"
  },
  "language_info": {
   "codemirror_mode": {
    "name": "ipython",
    "version": 3
   },
   "file_extension": ".py",
   "mimetype": "text/x-python",
   "name": "python",
   "nbconvert_exporter": "python",
   "pygments_lexer": "ipython3",
   "version": "3.13.3"
  }
 },
 "nbformat": 4,
 "nbformat_minor": 5
}
